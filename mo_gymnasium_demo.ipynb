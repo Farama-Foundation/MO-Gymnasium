{
 "cells": [
  {
   "cell_type": "markdown",
   "id": "ed73b6a4",
   "metadata": {
    "colab_type": "text",
    "id": "view-in-github"
   },
   "source": [
    "<a href=\"https://colab.research.google.com/github/LucasAlegre/mo-gym/blob/main/mo_gym_demo.ipynb\" target=\"_parent\"><img src=\"https://colab.research.google.com/assets/colab-badge.svg\" alt=\"Open In Colab\"/></a>"
   ]
  },
  {
   "cell_type": "markdown",
   "id": "ab7f2ffc",
   "metadata": {
    "id": "ab7f2ffc"
   },
   "source": [
    "## Step 1: install and import the libraries"
   ]
  },
  {
   "cell_type": "code",
   "execution_count": 1,
   "id": "o8lMdzzrRf0O",
   "metadata": {
    "colab": {
     "base_uri": "https://localhost:8080/"
    },
    "id": "o8lMdzzrRf0O",
    "outputId": "b8bb653e-a81f-42b7-e251-40179a2d0d76"
   },
   "outputs": [
    {
     "name": "stdout",
     "output_type": "stream",
     "text": [
      "Cloning into 'MO-Gymnasium'...\n",
      "remote: Enumerating objects: 1343, done.\u001b[K\n",
      "remote: Counting objects: 100% (645/645), done.\u001b[K\n",
      "remote: Compressing objects: 100% (395/395), done.\u001b[K\n",
      "remote: Total 1343 (delta 321), reused 491 (delta 211), pack-reused 698\u001b[K\n",
      "Receiving objects: 100% (1343/1343), 2.34 MiB | 1.79 MiB/s, done.\n",
      "Resolving deltas: 100% (663/663), done.\n",
      "Obtaining file:///Users/florian.felten/Documents/MO-Gymnasium/mo-gymnasium\n",
      "  Installing build dependencies ... \u001b[?25ldone\n",
      "\u001b[?25h  Checking if build backend supports build_editable ... \u001b[?25ldone\n",
      "\u001b[?25h  Getting requirements to build wheel ... \u001b[?25ldone\n",
      "\u001b[?25h  Preparing metadata (pyproject.toml) ... \u001b[?25ldone\n",
      "\u001b[?25hRequirement already satisfied: pygame>=2.1.0 in /usr/local/lib/python3.10/site-packages (from mo-gym==0.3.0) (2.1.0)\n",
      "Requirement already satisfied: scipy>=1.7.3 in /usr/local/lib/python3.10/site-packages (from mo-gym==0.3.0) (1.9.1)\n",
      "Requirement already satisfied: pymoo>=0.6.0 in /usr/local/lib/python3.10/site-packages (from mo-gym==0.3.0) (0.6.0)\n",
      "Requirement already satisfied: numpy>=1.21.0 in /usr/local/lib/python3.10/site-packages (from mo-gym==0.3.0) (1.23.3)\n",
      "Requirement already satisfied: gym>=0.26 in /usr/local/lib/python3.10/site-packages (from mo-gym==0.3.0) (0.26.2)\n",
      "Requirement already satisfied: gym-notices>=0.0.4 in /usr/local/lib/python3.10/site-packages (from gym>=0.26->mo-gym==0.3.0) (0.0.8)\n",
      "Requirement already satisfied: cloudpickle>=1.2.0 in /usr/local/lib/python3.10/site-packages (from gym>=0.26->mo-gym==0.3.0) (2.2.0)\n",
      "Requirement already satisfied: autograd>=1.4 in /usr/local/lib/python3.10/site-packages (from pymoo>=0.6.0->mo-gym==0.3.0) (1.5)\n",
      "Requirement already satisfied: alive-progress in /usr/local/lib/python3.10/site-packages (from pymoo>=0.6.0->mo-gym==0.3.0) (2.4.1)\n",
      "Requirement already satisfied: matplotlib>=3 in /usr/local/lib/python3.10/site-packages (from pymoo>=0.6.0->mo-gym==0.3.0) (3.6.0)\n",
      "Requirement already satisfied: Deprecated in /usr/local/lib/python3.10/site-packages (from pymoo>=0.6.0->mo-gym==0.3.0) (1.2.13)\n",
      "Requirement already satisfied: cma==3.2.2 in /usr/local/lib/python3.10/site-packages (from pymoo>=0.6.0->mo-gym==0.3.0) (3.2.2)\n",
      "Requirement already satisfied: dill in /usr/local/lib/python3.10/site-packages (from pymoo>=0.6.0->mo-gym==0.3.0) (0.3.5.1)\n",
      "Requirement already satisfied: future>=0.15.2 in /usr/local/lib/python3.10/site-packages (from autograd>=1.4->pymoo>=0.6.0->mo-gym==0.3.0) (0.18.2)\n",
      "Requirement already satisfied: contourpy>=1.0.1 in /usr/local/lib/python3.10/site-packages (from matplotlib>=3->pymoo>=0.6.0->mo-gym==0.3.0) (1.0.5)\n",
      "Requirement already satisfied: cycler>=0.10 in /usr/local/lib/python3.10/site-packages (from matplotlib>=3->pymoo>=0.6.0->mo-gym==0.3.0) (0.11.0)\n",
      "Requirement already satisfied: pillow>=6.2.0 in /usr/local/lib/python3.10/site-packages (from matplotlib>=3->pymoo>=0.6.0->mo-gym==0.3.0) (9.2.0)\n",
      "Requirement already satisfied: pyparsing>=2.2.1 in /usr/local/lib/python3.10/site-packages (from matplotlib>=3->pymoo>=0.6.0->mo-gym==0.3.0) (3.0.9)\n",
      "Requirement already satisfied: python-dateutil>=2.7 in /usr/local/lib/python3.10/site-packages (from matplotlib>=3->pymoo>=0.6.0->mo-gym==0.3.0) (2.8.2)\n",
      "Requirement already satisfied: kiwisolver>=1.0.1 in /usr/local/lib/python3.10/site-packages (from matplotlib>=3->pymoo>=0.6.0->mo-gym==0.3.0) (1.4.4)\n",
      "Requirement already satisfied: packaging>=20.0 in /usr/local/lib/python3.10/site-packages (from matplotlib>=3->pymoo>=0.6.0->mo-gym==0.3.0) (21.3)\n",
      "Requirement already satisfied: fonttools>=4.22.0 in /usr/local/lib/python3.10/site-packages (from matplotlib>=3->pymoo>=0.6.0->mo-gym==0.3.0) (4.37.3)\n",
      "Requirement already satisfied: grapheme==0.6.0 in /usr/local/lib/python3.10/site-packages (from alive-progress->pymoo>=0.6.0->mo-gym==0.3.0) (0.6.0)\n",
      "Requirement already satisfied: about-time==3.1.1 in /usr/local/lib/python3.10/site-packages (from alive-progress->pymoo>=0.6.0->mo-gym==0.3.0) (3.1.1)\n",
      "Requirement already satisfied: wrapt<2,>=1.10 in /usr/local/lib/python3.10/site-packages (from Deprecated->pymoo>=0.6.0->mo-gym==0.3.0) (1.14.1)\n",
      "Requirement already satisfied: six>=1.5 in /usr/local/lib/python3.10/site-packages (from python-dateutil>=2.7->matplotlib>=3->pymoo>=0.6.0->mo-gym==0.3.0) (1.16.0)\n",
      "Installing collected packages: mo-gym\n",
      "  Attempting uninstall: mo-gym\n",
      "    Found existing installation: mo-gym 0.3.0\n",
      "    Uninstalling mo-gym-0.3.0:\n",
      "      Successfully uninstalled mo-gym-0.3.0\n",
      "  Running setup.py develop for mo-gym\n",
      "Successfully installed mo-gym-0.3.0\n"
     ]
    }
   ],
   "source": [
    "!git clone https://github.com/Farama-Foundation/MO-Gymnasium\n",
    "!pip install -e mo-gymnasium"
   ]
  },
  {
   "cell_type": "code",
   "execution_count": 2,
   "id": "43bddbf7",
   "metadata": {},
   "outputs": [
    {
     "name": "stdout",
     "output_type": "stream",
     "text": [
      "\u001b[33mDEPRECATION: Configuring installation scheme with distutils config files is deprecated and will no longer work in the near future. If you are using a Homebrew or Linuxbrew Python, please see discussion at https://github.com/Homebrew/homebrew-core/issues/76621\u001b[0m\u001b[33m\n",
      "\u001b[0mRequirement already satisfied: moviepy in /usr/local/lib/python3.9/site-packages (1.0.3)\n",
      "Requirement already satisfied: numpy>=1.17.3 in /usr/local/lib/python3.9/site-packages (from moviepy) (1.21.0)\n",
      "Requirement already satisfied: tqdm<5.0,>=4.11.2 in /usr/local/lib/python3.9/site-packages (from moviepy) (4.64.1)\n",
      "Requirement already satisfied: requests<3.0,>=2.8.1 in /usr/local/lib/python3.9/site-packages (from moviepy) (2.27.1)\n",
      "Requirement already satisfied: imageio<3.0,>=2.5 in /usr/local/lib/python3.9/site-packages (from moviepy) (2.20.0)\n",
      "Requirement already satisfied: proglog<=1.0.0 in /usr/local/lib/python3.9/site-packages (from moviepy) (0.1.10)\n",
      "Requirement already satisfied: decorator<5.0,>=4.0.2 in /usr/local/lib/python3.9/site-packages (from moviepy) (4.4.2)\n",
      "Requirement already satisfied: imageio-ffmpeg>=0.2.0 in /usr/local/lib/python3.9/site-packages (from moviepy) (0.4.7)\n",
      "Requirement already satisfied: pillow>=8.3.2 in /usr/local/lib/python3.9/site-packages (from imageio<3.0,>=2.5->moviepy) (9.2.0)\n",
      "Requirement already satisfied: certifi>=2017.4.17 in /usr/local/lib/python3.9/site-packages (from requests<3.0,>=2.8.1->moviepy) (2021.10.8)\n",
      "Requirement already satisfied: idna<4,>=2.5 in /usr/local/lib/python3.9/site-packages (from requests<3.0,>=2.8.1->moviepy) (3.3)\n",
      "Requirement already satisfied: charset-normalizer~=2.0.0 in /usr/local/lib/python3.9/site-packages (from requests<3.0,>=2.8.1->moviepy) (2.0.12)\n",
      "Requirement already satisfied: urllib3<1.27,>=1.21.1 in /usr/local/lib/python3.9/site-packages (from requests<3.0,>=2.8.1->moviepy) (1.26.8)\n",
      "\u001b[33mDEPRECATION: Configuring installation scheme with distutils config files is deprecated and will no longer work in the near future. If you are using a Homebrew or Linuxbrew Python, please see discussion at https://github.com/Homebrew/homebrew-core/issues/76621\u001b[0m\u001b[33m\n",
      "\u001b[0m\n",
      "\u001b[1m[\u001b[0m\u001b[34;49mnotice\u001b[0m\u001b[1;39;49m]\u001b[0m\u001b[39;49m A new release of pip available: \u001b[0m\u001b[31;49m22.2.2\u001b[0m\u001b[39;49m -> \u001b[0m\u001b[32;49m22.3.1\u001b[0m\n",
      "\u001b[1m[\u001b[0m\u001b[34;49mnotice\u001b[0m\u001b[1;39;49m]\u001b[0m\u001b[39;49m To update, run: \u001b[0m\u001b[32;49mpython3.9 -m pip install --upgrade pip\u001b[0m\n"
     ]
    }
   ],
   "source": [
    "import sys\n",
    "!{sys.executable} -m pip install moviepy"
   ]
  },
  {
   "cell_type": "code",
   "execution_count": 3,
   "id": "846b9364",
   "metadata": {
    "id": "846b9364"
   },
   "outputs": [],
   "source": [
    "import gymnasium as gym\n",
    "import mo_gymnasium as mo_gym"
   ]
  },
  {
   "cell_type": "markdown",
   "id": "f4fef046",
   "metadata": {
    "id": "f4fef046"
   },
   "source": [
    "## Step 2: create an environment"
   ]
  },
  {
   "cell_type": "code",
   "execution_count": 6,
   "id": "d5415397",
   "metadata": {
    "id": "d5415397"
   },
   "outputs": [],
   "source": [
    "env = mo_gym.make(\"mo-mountaincar-v0\", render_mode=\"human\")"
   ]
  },
  {
   "cell_type": "markdown",
   "id": "870ae1a4",
   "metadata": {
    "id": "870ae1a4"
   },
   "source": [
    "## Step 3: extract environment information"
   ]
  },
  {
   "cell_type": "code",
   "execution_count": 7,
   "id": "8db784fa",
   "metadata": {
    "colab": {
     "base_uri": "https://localhost:8080/"
    },
    "id": "8db784fa",
    "outputId": "dd097381-1f1b-48c3-8be2-f284aa9f493e"
   },
   "outputs": [
    {
     "data": {
      "text/plain": [
       "Box([-1.2  -0.07], [0.6  0.07], (2,), float32)"
      ]
     },
     "execution_count": 7,
     "metadata": {},
     "output_type": "execute_result"
    }
   ],
   "source": [
    "env.observation_space"
   ]
  },
  {
   "cell_type": "code",
   "execution_count": 8,
   "id": "8e8d91c7",
   "metadata": {
    "colab": {
     "base_uri": "https://localhost:8080/"
    },
    "id": "8e8d91c7",
    "outputId": "3c51452a-8713-4599-9064-72fff4faca85"
   },
   "outputs": [
    {
     "data": {
      "text/plain": [
       "Discrete(3)"
      ]
     },
     "execution_count": 8,
     "metadata": {},
     "output_type": "execute_result"
    }
   ],
   "source": [
    "env.action_space"
   ]
  },
  {
   "cell_type": "code",
   "execution_count": 9,
   "id": "5bff02b6",
   "metadata": {
    "colab": {
     "base_uri": "https://localhost:8080/"
    },
    "id": "5bff02b6",
    "outputId": "fe8ee38e-ff94-4ad2-9d9c-e2cc58d89159"
   },
   "outputs": [
    {
     "data": {
      "text/plain": [
       "Box(-1.0, 1.0, (3,), float32)"
      ]
     },
     "execution_count": 9,
     "metadata": {},
     "output_type": "execute_result"
    }
   ],
   "source": [
    "env.reward_space"
   ]
  },
  {
   "attachments": {},
   "cell_type": "markdown",
   "id": "f01faaa2",
   "metadata": {
    "id": "f01faaa2"
   },
   "source": [
    "## Step 4: use Gymnasium features in MO-Gymnasium"
   ]
  },
  {
   "cell_type": "code",
   "execution_count": 6,
   "id": "c64e5417",
   "metadata": {
    "id": "c64e5417"
   },
   "outputs": [],
   "source": [
    "from gym.wrappers.record_video import RecordVideo"
   ]
  },
  {
   "cell_type": "code",
   "execution_count": 7,
   "id": "a4190496",
   "metadata": {
    "colab": {
     "base_uri": "https://localhost:8080/"
    },
    "id": "a4190496",
    "outputId": "7739e628-5ef1-4086-98df-33ff30af0a29"
   },
   "outputs": [
    {
     "name": "stderr",
     "output_type": "stream",
     "text": [
      "/usr/local/lib/python3.9/site-packages/gym/wrappers/record_video.py:75: UserWarning: \u001b[33mWARN: Overwriting existing videos at /Users/florian.felten/Documents/mo-gym/videos/demo folder (try specifying a different `video_folder` for the `RecordVideo` wrapper if this is not desired)\u001b[0m\n",
      "  logger.warn(\n"
     ]
    }
   ],
   "source": [
    "env = RecordVideo(env, \"videos/demo\", episode_trigger=lambda e: True)"
   ]
  },
  {
   "cell_type": "markdown",
   "id": "dbde25c4",
   "metadata": {
    "id": "dbde25c4"
   },
   "source": [
    "## Step 5: go through the environment with a random agent"
   ]
  },
  {
   "cell_type": "code",
   "execution_count": 10,
   "id": "066db701",
   "metadata": {
    "id": "066db701"
   },
   "outputs": [],
   "source": [
    "env.reset()\n",
    "done = False\n",
    "\n",
    "while not done:\n",
    "    obs, vec_reward, terminated, truncated, info = env.step(env.action_space.sample())\n",
    "    done = terminated or truncated\n",
    "    \n",
    "env.close()"
   ]
  },
  {
   "cell_type": "markdown",
   "id": "IG7S7nx3cces",
   "metadata": {
    "id": "IG7S7nx3cces"
   },
   "source": [
    "## Step 6: scalarize env and run it with stable-baselines3\n",
    "\n"
   ]
  },
  {
   "cell_type": "code",
   "execution_count": null,
   "id": "DHkO3R7uccOy",
   "metadata": {
    "colab": {
     "base_uri": "https://localhost:8080/"
    },
    "id": "DHkO3R7uccOy",
    "outputId": "7dcaa4a2-f566-40e8-f62a-12d4320c3df4"
   },
   "outputs": [],
   "source": [
    "!pip install stable-baselines3"
   ]
  },
  {
   "cell_type": "code",
   "execution_count": null,
   "id": "lgPC1qU8c-0A",
   "metadata": {
    "colab": {
     "base_uri": "https://localhost:8080/"
    },
    "id": "lgPC1qU8c-0A",
    "outputId": "f3b8d2a4-0a91-4005-c0e9-64d9f34f19d3"
   },
   "outputs": [],
   "source": [
    "import stable_baselines3 as sb3\n",
    "import numpy as np\n",
    "import mo_gymnasium as mo_gym"
   ]
  },
  {
   "cell_type": "code",
   "execution_count": null,
   "id": "SdkUeJHudZ17",
   "metadata": {
    "colab": {
     "base_uri": "https://localhost:8080/",
     "height": 592
    },
    "id": "SdkUeJHudZ17",
    "outputId": "9557593d-4893-4c4d-dccb-76fefd73dddd"
   },
   "outputs": [],
   "source": [
    "!pip install gym==0.24.0"
   ]
  },
  {
   "cell_type": "code",
   "execution_count": null,
   "id": "mn7dMweScz1U",
   "metadata": {
    "colab": {
     "base_uri": "https://localhost:8080/"
    },
    "id": "mn7dMweScz1U",
    "outputId": "fe80d623-a46d-4d9e-bd27-75188c12aa19"
   },
   "outputs": [],
   "source": [
    "# Linear scalarizes the environment\n",
    "env = mo_gym.LinearReward(mo_gym.make(\"mo-mountaincar-v0\"), weight=np.array([0.9, 0.1, 0.0]))\n",
    "\n",
    "# Run DQN agent!\n",
    "agent = sb3.DQN(\"MlpPolicy\", env)\n",
    "agent.learn(10000)"
   ]
  }
 ],
 "metadata": {
  "colab": {
   "include_colab_link": true,
   "name": "mo-gym-demo.ipynb",
   "provenance": []
  },
  "kernelspec": {
   "display_name": "Python 3 (ipykernel)",
   "language": "python",
   "name": "python3"
  },
  "language_info": {
   "codemirror_mode": {
    "name": "ipython",
    "version": 3
   },
   "file_extension": ".py",
   "mimetype": "text/x-python",
   "name": "python",
   "nbconvert_exporter": "python",
   "pygments_lexer": "ipython3",
   "version": "3.9.14"
  },
  "vscode": {
   "interpreter": {
    "hash": "ac2eaa0ea0ebeafcc7822e65e46aa9d4f966f30b695406963e145ea4a91cd4fc"
   }
  }
 },
 "nbformat": 4,
 "nbformat_minor": 5
}
